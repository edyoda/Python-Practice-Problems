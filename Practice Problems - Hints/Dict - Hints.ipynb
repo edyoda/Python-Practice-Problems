{
 "cells": [
  {
   "cell_type": "markdown",
   "metadata": {},
   "source": [
    "1. Write a program to generate the dict of alphabates and ASCII values. <br>Expected output : {\"a\":97,\"b\":98,\"c\":99.....,\"z\":122}"
   ]
  },
  {
   "cell_type": "markdown",
   "metadata": {},
   "source": [
    "- ASCII range for lowercase alphabates is 97 - 122\n",
    "- Iterate over range of numbers from 97 - 122 : In every iteration you will get one number between 97- 122\n",
    "- Convert each the ASCII integer to chr using python builtin function\n",
    "- Add ASCII interger and converted char into the dict"
   ]
  },
  {
   "cell_type": "markdown",
   "metadata": {},
   "source": [
    "2. Write a program to count the number of occurances of a number from list and store the number and its count in a dict.<br>\n",
    "nums = [10,10,20,10,30,20]<br>\n",
    "Expected output : num_count = {10:3,20:1,30:1}\n"
   ]
  },
  {
   "cell_type": "markdown",
   "metadata": {},
   "source": [
    "- Iterate over a list\n",
    "- Count the total number of occurance using the builtin python function\n",
    "- Add the number and its occurance count in the dict, As there is posibility of getting duplicate numbers check if the number is already present in the output dict before adding it"
   ]
  },
  {
   "cell_type": "markdown",
   "metadata": {},
   "source": [
    "3. Given a dict of subject names and marks. Find out subject names in which student scored less than 40 marks.<br>\n",
    "input sub_marks = {\"database\":80,\"python\":30,\"data structures\":66,\"machine learning\":30}<br>\n",
    "Expected output : python,machine learning\n"
   ]
  },
  {
   "cell_type": "markdown",
   "metadata": {},
   "source": [
    "- Iterate over a dict in such a way that you will get both key and the value\n",
    "- check if value is less than 40 or not\n",
    "- if value is less than 40 print the key\n",
    "- else ignore that key and move to next iteration"
   ]
  },
  {
   "cell_type": "markdown",
   "metadata": {},
   "source": [
    "4. Given a dictionary that contains mapping of employee and his manager<br>\n",
    "{ \n",
    " \"A\": \"C\",\n",
    " \"B\": \"C\" ,\n",
    " \"C\": \"F\" ,\n",
    " \"D\": \"E\" ,\n",
    " \"E\": \"F\" ,\n",
    " \"F\": \"F\" \n",
    "} \n",
    "create a list of managers and directly reporting eployees to that manager\n",
    "Expected output :\n",
    "        { \"C\" : [\"A\", \"B\"],\n",
    "          \"E\" : [\"D\"], \n",
    "          \"F\" : [\"C\", \"E\", \"F\"] \n",
    "        }"
   ]
  },
  {
   "cell_type": "markdown",
   "metadata": {},
   "source": [
    "- define an empty dict to store managers and their direct reportee\n",
    "- Iterate over a dict in such way that you get key and value in each iteration\n",
    "- in every iteration check, if manager is already present in output list\n",
    "- if not present add the manager and current iteration emp in a list\n",
    "- if manager already present append to the current emp list\n"
   ]
  },
  {
   "cell_type": "markdown",
   "metadata": {},
   "source": [
    "5. Write a Python program to combine two dictionary adding values for common keys.<br>\n",
    "d1 = {'a': 100, 'b': 200, 'c':300}<br>\n",
    "d2 = {'a': 300, 'b': 200, 'e':400}<br>\n",
    "Expected output: d3 = {'a': 400, 'b': 400, 'c': 300, 'e': 400}"
   ]
  },
  {
   "cell_type": "markdown",
   "metadata": {},
   "source": [
    "- declare a dict to store the output and initialize it to d1 \n",
    "- iterate over d2 in such way that you will get key and value in each iteration\n",
    "- in each iteration check if key is already present in output dict or not \n",
    "- if not present add the current iteration key and value as it is\n",
    "- if present perform the add operation on the value and update the value of the key"
   ]
  }
 ],
 "metadata": {
  "kernelspec": {
   "display_name": "Python 3",
   "language": "python",
   "name": "python3"
  },
  "language_info": {
   "codemirror_mode": {
    "name": "ipython",
    "version": 3
   },
   "file_extension": ".py",
   "mimetype": "text/x-python",
   "name": "python",
   "nbconvert_exporter": "python",
   "pygments_lexer": "ipython3",
   "version": "3.6.5"
  }
 },
 "nbformat": 4,
 "nbformat_minor": 2
}
