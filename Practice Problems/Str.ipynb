{
 "cells": [
  {
   "cell_type": "markdown",
   "metadata": {},
   "source": [
    "1.Write a program to print duplicate characters from String.<br>\n",
    "  Input : \"Programming\"<br> \n",
    "  Output: \"r\", \"m\", \"g\" "
   ]
  },
  {
   "cell_type": "markdown",
   "metadata": {},
   "source": [
    "2.Write a program to implement an algorithm which will accept a string of characters and should find the highest occurrence of the character and display it.<br>For example, if the input is \"aaaaaaaabbbcddddeeee\" it should return \"a\". "
   ]
  },
  {
   "cell_type": "markdown",
   "metadata": {},
   "source": [
    "3.Write a program to reverse the words in a string<br>\n",
    "input string : \"python,java,c\"<br>\n",
    "expected output : \"c,java,python\""
   ]
  },
  {
   "cell_type": "markdown",
   "metadata": {},
   "source": [
    "4.Write a program to capitalize the vowels from a given string<br>\n",
    "Input string : \"Python sample input string\"<br>\n",
    "Expected output:\"PythOn sAmplE InpUt strIng\" "
   ]
  },
  {
   "cell_type": "markdown",
   "metadata": {},
   "source": [
    "5.Write a program to check if a given string is a valid floating point number or not<br>\n",
    "Input : \"14.55\" : Valid Floating number<br>\n",
    "        \"1455.\" : Invalid floating point number<br>\n",
    "        \".144\"  : Invalid floating point number<br>"
   ]
  }
 ],
 "metadata": {
  "kernelspec": {
   "display_name": "Python 3",
   "language": "python",
   "name": "python3"
  },
  "language_info": {
   "codemirror_mode": {
    "name": "ipython",
    "version": 3
   },
   "file_extension": ".py",
   "mimetype": "text/x-python",
   "name": "python",
   "nbconvert_exporter": "python",
   "pygments_lexer": "ipython3",
   "version": "3.6.5"
  }
 },
 "nbformat": 4,
 "nbformat_minor": 2
}
