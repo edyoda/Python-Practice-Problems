{
 "cells": [
  {
   "cell_type": "markdown",
   "metadata": {},
   "source": [
    "1. Write a program to check if the given email address is valid or not<br>\n",
    "\n",
    "A valid email address consists of an email prefix and an email domain, both in acceptable formats.<br>\n",
    "The prefix appears to the left of the @ symbol<br>\n",
    "The domain appears to the right of the @ symbol<br>\n",
    "\n",
    "Acceptable email prefix formats\n",
    "Allowed characters: letters (a-z), numbers, underscores, periods, and dashes.<br>\n",
    "An underscore, period, or dash must be followed by one or more letter or number.<br>\n",
    "\n",
    "Acceptable email domain formats<br>\n",
    "Allowed characters: letters, numbers, dashes.<br>\n",
    "The last portion of the domain must be at least two characters, for example: .com, .org, .cc"
   ]
  },
  {
   "cell_type": "markdown",
   "metadata": {},
   "source": [
    "2. Write a program to extract all the links from a given string \n",
    "Input string : \"Link to the code file is https://www.zekelabs.com/code or http://www.github.com/zekelabs\"\n",
    "\n",
    "Expected Output : [\"https://www.zekelabs.com/code\",\"http://www.github.com/zekelabs\"]"
   ]
  },
  {
   "cell_type": "markdown",
   "metadata": {},
   "source": [
    "3.Write a program to check if given string is valid support ticket number or not.<br>\n",
    "Valid Format :<br>\n",
    "1. Starting 3 characters should be INC<br>\n",
    "2. Followed by 5 char which is combination of uppercase alphabates and numbers<br>\n",
    "\n",
    "Input :<br> \n",
    "INC12A34 => Valid Support Ticket Number<br>\n",
    "INC12345 => Invalid Support Ticket Number<br>\n",
    "INC12#56 => Invalid Support Ticket Number<br>\n"
   ]
  },
  {
   "cell_type": "markdown",
   "metadata": {},
   "source": [
    "4.Write a program to check if given password is valid password or not.<br>\n",
    "Valid Password :<br>\n",
    "1.Min length should be 6 and max length should be 12<br>\n",
    "2.Password should contain atleast one Upper case letter<br>\n",
    "3.Password should contain atleast 1 special character (@,!,_,$,#)<br>\n",
    "4.Password should contain atleast 1 number<br>"
   ]
  },
  {
   "cell_type": "markdown",
   "metadata": {},
   "source": [
    "5.Check if given phone number is valid international phone number as per E.164 format.<br>\n",
    "E.164 numbers are formatted [+] [country code] [subscriber number] and can have a maximum of fifteen digits."
   ]
  }
 ],
 "metadata": {
  "kernelspec": {
   "display_name": "Python 3",
   "language": "python",
   "name": "python3"
  },
  "language_info": {
   "codemirror_mode": {
    "name": "ipython",
    "version": 3
   },
   "file_extension": ".py",
   "mimetype": "text/x-python",
   "name": "python",
   "nbconvert_exporter": "python",
   "pygments_lexer": "ipython3",
   "version": "3.6.5"
  }
 },
 "nbformat": 4,
 "nbformat_minor": 2
}
