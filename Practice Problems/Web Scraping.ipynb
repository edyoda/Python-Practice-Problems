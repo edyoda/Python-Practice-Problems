{
 "cells": [
  {
   "cell_type": "markdown",
   "metadata": {},
   "source": [
    "Write a program to fetch the top reviews for all Mobile phones from given mobile listing page.After Scraping the data store it into CSV / Database. \n",
    "Link : https://www.amazon.com/s?i=electronics-intl-ship&bbn=16225009011&rh=n%3A%2116225009011%2Cn%3A2811119011%2Cn%3A2407748011&dc&_encoding=UTF8&qid=1567583627&rnid=2811119011&ref=sr_nr_n_1"
   ]
  },
  {
   "cell_type": "markdown",
   "metadata": {},
   "source": [
    "From imdb.com site fetch all the coming soon movies data (Movie Name,Description, Rating and Startcast) on the basis of months and store it in csv format.\n",
    "\n",
    "Link : https://www.imdb.com/movies-coming-soon/2019-10/ similar to this write a logic to generate a links for coming soon movies in this year."
   ]
  },
  {
   "cell_type": "markdown",
   "metadata": {},
   "source": [
    "Write a program to fetch 5 days flight data for route (Bangalore - Delhi) from indigo website and store it in csv format\n",
    "Link :https://www.goindigo.in/booking/flight-select.html"
   ]
  },
  {
   "cell_type": "markdown",
   "metadata": {},
   "source": [
    "Write a program to scrape the Equity turnover data from BSE website and store the data in CSV.\n",
    "\n",
    "Link : https://www.bseindia.com/markets/keystatics/Keystat_turnoverequity.aspx\n",
    "        "
   ]
  },
  {
   "cell_type": "markdown",
   "metadata": {},
   "source": [
    "Write aprogram to scrape the images from the below link\n",
    "https://www.pexels.com/collections/mockups-jlc6sr1/"
   ]
  }
 ],
 "metadata": {
  "kernelspec": {
   "display_name": "Python 3",
   "language": "python",
   "name": "python3"
  },
  "language_info": {
   "codemirror_mode": {
    "name": "ipython",
    "version": 3
   },
   "file_extension": ".py",
   "mimetype": "text/x-python",
   "name": "python",
   "nbconvert_exporter": "python",
   "pygments_lexer": "ipython3",
   "version": "3.6.5"
  }
 },
 "nbformat": 4,
 "nbformat_minor": 2
}
