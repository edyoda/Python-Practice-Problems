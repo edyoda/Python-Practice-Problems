{
 "cells": [
  {
   "cell_type": "markdown",
   "metadata": {},
   "source": [
    "1.Write a program to check whether a number is even or odd.<br>\n",
    "  Even number : A number is said to be a even number if divided by 2, remainder will be zero<br>      \n",
    "  input : num = 32 expected output => \"Even number\""
   ]
  },
  {
   "cell_type": "markdown",
   "metadata": {},
   "source": [
    "2.Write a program to check a character is vowel or consonant.<br>\n",
    "  Vowel : Given char is a vowel if its wither 'a' or 'e' or 'i' or 'o' or  'u'.<br> \n",
    "input : char = \"a\" expected output => \"Vowel\"<br> \n",
    "input : char = \"z\" expected output => \"Consonent\""
   ]
  },
  {
   "cell_type": "markdown",
   "metadata": {},
   "source": [
    "3.Given two numbers, print their sum. However, if the two numbers are the same, return double their sum.<br>\n",
    "input : num1 = 10 ,num2 = 10 expected output => (10 + 10)*2 = 40\n",
    "input : num1 = 5 , num2 = 10 expected output => (5 + 10) = 15"
   ]
  },
  {
   "cell_type": "markdown",
   "metadata": {},
   "source": [
    "4.Given a Cost price and Selling price of a product,write program to calculate profit or loss.<br>\n",
    "    Profit : if Selling Price > Cost Price<br>\n",
    "    Loss : if Selling Price < Cost Price<br>\n",
    "    \n",
    "input : cost price  = 100 , selling price = 200 expected output => Profit of 100.<br>\n",
    "input : cost price  = 50 , selling price = 20 expected output => Loss of 30"
   ]
  },
  {
   "cell_type": "markdown",
   "metadata": {},
   "source": [
    "5.Write a program to check whether triangle is valid or not if angles are given.<br> \n",
    "\tValid Triangle : Sum of all the angles should be 180\n",
    "\t\t\t All the angles should be greater than zero"
   ]
  }
 ],
 "metadata": {
  "kernelspec": {
   "display_name": "Python 3",
   "language": "python",
   "name": "python3"
  },
  "language_info": {
   "codemirror_mode": {
    "name": "ipython",
    "version": 3
   },
   "file_extension": ".py",
   "mimetype": "text/x-python",
   "name": "python",
   "nbconvert_exporter": "python",
   "pygments_lexer": "ipython3",
   "version": "3.6.5"
  }
 },
 "nbformat": 4,
 "nbformat_minor": 2
}
