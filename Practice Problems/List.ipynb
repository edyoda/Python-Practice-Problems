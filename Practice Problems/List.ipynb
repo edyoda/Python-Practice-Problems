{
 "cells": [
  {
   "cell_type": "markdown",
   "metadata": {},
   "source": [
    "1.Write a program to generate the list of characters from a to z<br>\n",
    "hint : ord() => Builtin function which returns a ascii value of a character.eg ord('a')=> 97 \n",
    "chr() => buildin function which takes ascii value as input and returns character,eg chr(97) => a"
   ]
  },
  {
   "cell_type": "markdown",
   "metadata": {},
   "source": [
    "2.Write a program to flatten a list.<br>\n",
    "input list : [[1,2,3],[4,5,6],[7,8,9]]<br>\n",
    "output list : [1,2,3,4,5,6,7,8,9]"
   ]
  },
  {
   "cell_type": "markdown",
   "metadata": {},
   "source": [
    "3.Given a list of N integers. The task is to eliminate the minimum number of elements such that in the resulting list the sum of any two adjacent values is even.<br>\n",
    "\n",
    "numbers = [1, 3, 5, 4, 2]<br>\n",
    "output = [1, 3, 5] Total elements removed 2 "
   ]
  },
  {
   "cell_type": "markdown",
   "metadata": {},
   "source": [
    "4. Write a program to perfrom the matcrix addition.<br>\n",
    "a = [[10,20,30],\n",
    "    [40,50,60],\n",
    "    [70,80,90]]\n",
    "   \n",
    "b = [[1,2,3],\n",
    "    [4,5,6],\n",
    "    [7,8,9]]\n",
    "    \n",
    "output : \n",
    "c = [[11,22,33],\n",
    "    [44,55,66],\n",
    "    [77,88,99]]"
   ]
  }
 ],
 "metadata": {
  "kernelspec": {
   "display_name": "Python 3",
   "language": "python",
   "name": "python3"
  },
  "language_info": {
   "codemirror_mode": {
    "name": "ipython",
    "version": 3
   },
   "file_extension": ".py",
   "mimetype": "text/x-python",
   "name": "python",
   "nbconvert_exporter": "python",
   "pygments_lexer": "ipython3",
   "version": "3.6.5"
  }
 },
 "nbformat": 4,
 "nbformat_minor": 2
}
