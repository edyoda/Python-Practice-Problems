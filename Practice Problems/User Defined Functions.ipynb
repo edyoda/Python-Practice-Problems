{
 "cells": [
  {
   "cell_type": "markdown",
   "metadata": {},
   "source": [
    "1.Write a function to convert a given integer (in seconds) to hours, minutes and seconds and return the answer in H:M:S using positional arg passing technique."
   ]
  },
  {
   "cell_type": "markdown",
   "metadata": {},
   "source": [
    "2.Given a dictionary of items & their unit prices and the items bought & the quantity, write a function to calculate the total cost of the items plus a given tax using variable length keyword args.\n",
    "If item doesn't exist, the item is ignored.\n",
    "Output should be rounded to two decimal places.\n",
    "\n",
    "Input : {\"A\":2500,\"B\":1000,\"C\":500,\"D\":450}<br>\n",
    "Items bought : A, Quantity : 2<br>\n",
    "Items bought : B, Quantity : 3<br>\n",
    "Items bought : D, Quantity : 1<br>\n",
    "        \n",
    "Tax = 18%      \n",
    "        "
   ]
  },
  {
   "cell_type": "markdown",
   "metadata": {},
   "source": [
    "3.Write a function to implement the merge sort algorithm"
   ]
  },
  {
   "cell_type": "markdown",
   "metadata": {},
   "source": [
    "4.Write a function to add all key value pairs to a dict from nested dictionary.\n",
    "\n",
    "Eg:  {\n",
    "\n",
    "\t“username”: “ABC”\n",
    "    \n",
    "    “channel” :\t{\n",
    "    \n",
    " \t\t\tId : 101\n",
    "            \n",
    "\t\t\t“name”: ”XYZ”\n",
    "            \n",
    "        }\n",
    "        \n",
    "    }\n",
    "\n",
    "Expected output:\n",
    "{ “username” : “ABC”, ’ Id’ : 101, “name”: ”XYZ”}\n"
   ]
  },
  {
   "cell_type": "markdown",
   "metadata": {},
   "source": [
    "5.Write a function to check if a given string is a floating point number.\n",
    "s = \"15.555\" Expected answer => True "
   ]
  }
 ],
 "metadata": {
  "kernelspec": {
   "display_name": "Python 3",
   "language": "python",
   "name": "python3"
  },
  "language_info": {
   "codemirror_mode": {
    "name": "ipython",
    "version": 3
   },
   "file_extension": ".py",
   "mimetype": "text/x-python",
   "name": "python",
   "nbconvert_exporter": "python",
   "pygments_lexer": "ipython3",
   "version": "3.6.5"
  }
 },
 "nbformat": 4,
 "nbformat_minor": 2
}
