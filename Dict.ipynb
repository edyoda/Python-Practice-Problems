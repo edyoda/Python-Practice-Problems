{
 "cells": [
  {
   "cell_type": "markdown",
   "metadata": {},
   "source": [
    "1. Write a program to generate the dict of alphabates and ASCII values. <br>Expected output : {\"a\":97,\"b\":98,\"c\":99.....,\"z\":122}"
   ]
  },
  {
   "cell_type": "markdown",
   "metadata": {},
   "source": [
    "2. Write a program to count the number of occurances of a number from list and store the number and its count in a dict.<br>\n",
    "nums = [10,10,20,10,30,20]<br>\n",
    "Expected output : num_count = {10:3,20:1,30:1}\n"
   ]
  },
  {
   "cell_type": "markdown",
   "metadata": {},
   "source": [
    "3. Given a dict of subject names and marks. Find out subject names in which student scored less than 40 marks.<br>\n",
    "input sub_marks = {\"database\":80,\"python\":30,\"data structures\":66,\"machine learning\":30}<br>\n",
    "Expected output : python,machine learning\n"
   ]
  },
  {
   "cell_type": "markdown",
   "metadata": {},
   "source": [
    "4. Given a dictionary that contains mapping of employee and his manager<br>\n",
    "{ \"A\", \"C\" },\n",
    "{ \"B\", \"C\" },\n",
    "{ \"C\", \"F\" },\n",
    "{ \"D\", \"E\" },\n",
    "{ \"E\", \"F\" },\n",
    "{ \"F\", \"F\" } \n",
    "create a list of managers and directly reporting eployees to that manager\n",
    "Expected output :\n",
    "        { \"C\" : [\"A\", \"B\"],\n",
    "          \"E\" : [\"D\"], \n",
    "          \"F\" : [\"C\", \"E\", \"F\"] \n",
    "        }"
   ]
  },
  {
   "cell_type": "markdown",
   "metadata": {},
   "source": [
    "5. Write a Python program to combine two dictionary adding values for common keys.<br>\n",
    "d1 = {'a': 100, 'b': 200, 'c':300}<br>\n",
    "d2 = {'a': 300, 'b': 200, 'e':400}<br>\n",
    "Expected output: d3 = {'a': 400, 'b': 400, 'c': 300, 'e': 400}"
   ]
  }
 ],
 "metadata": {
  "kernelspec": {
   "display_name": "Python 3",
   "language": "python",
   "name": "python3"
  },
  "language_info": {
   "codemirror_mode": {
    "name": "ipython",
    "version": 3
   },
   "file_extension": ".py",
   "mimetype": "text/x-python",
   "name": "python",
   "nbconvert_exporter": "python",
   "pygments_lexer": "ipython3",
   "version": "3.6.5"
  }
 },
 "nbformat": 4,
 "nbformat_minor": 2
}
